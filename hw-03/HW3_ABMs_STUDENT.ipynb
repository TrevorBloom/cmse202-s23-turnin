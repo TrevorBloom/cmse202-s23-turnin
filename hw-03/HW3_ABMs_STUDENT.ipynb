{
 "cells": [
  {
   "cell_type": "markdown",
   "metadata": {},
   "source": [
    "# Homework Assignment 3 (Individual)\n",
    "\n",
    "---"
   ]
  },
  {
   "cell_type": "markdown",
   "metadata": {},
   "source": [
    "### <p style=\"text-align: right;\"> &#9989; Trevor Bloom</p>"
   ]
  },
  {
   "cell_type": "markdown",
   "metadata": {},
   "source": [
    "\n",
    "---\n",
    "## Creating a natural selection model using ABMs and OOP\n",
    "\n",
    "In this homework, we have two sections.\n",
    "\n",
    "- **Part A: Git practice**\n",
    "- **Part B: ABM + OOP: Simulating animal populations -- Natural selection and adaptation**\n",
    "\n",
    "<img src=\"https://raw.githubusercontent.com/huichiayu/cmse_202_802/main/IMGs/rock_mice.jpg\" border=\"0\" align=\"center\" width=\"600\">\n",
    "image found online.\n",
    "\n",
    "\n",
    "### Goal for this homework assignment\n",
    "By now, you have learned ABM and OOP through the assignments of assembling Zoo and Superbugs. Let's use those skills to build a simple fun model of natural selection. \n",
    "\n",
    "**This assignment is due roughly two weeks from now at 11:59 pm on Friday, March 31.** It should be uploaded into the \"Homework Assignments\" submission folder for Homework #3, as well as GitHub turn-in repo.  Submission instructions can be found at the end of the notebook. **The distribution of points can be found in the section headers**.\n"
   ]
  },
  {
   "cell_type": "markdown",
   "metadata": {},
   "source": [
    "---\n",
    "## Part 0: Upload this file to your Git repository to track your progress on your assignment (15 pt)\n",
    "\n",
    "#### Note: This is different from previous assignments!\n",
    "\n",
    "You will add this homework assignment to your GutHub repository you created for previous homework so that you can track your progress on the assignment and preserve the final version that you turn in. We also want you to get practice with **branching**, as that will be important and useful for your group projects. \n",
    "\n",
    "**&#9989; Do the following**:\n",
    "\n",
    "\n",
    "1. Navigate to your `cmse202-s23-turnin` repository \n",
    "2. Create a new branch called `hw03_branch` and move into it. \n",
    "3. Create a new directory called `hw-03`.\n",
    "4. Move this notebook into that **new directory**, then **add** and **commit** it. \n",
    "5. Finally, to test that everything is working, `git push` the file and new branch so they end up in your GitHub repository. \n",
    "\n",
    "**Important**: Make sure to add your Professor and TA as collaborators of this respository with \"Read\" access so that we can see your assignment (you should have done this in the previous homework assignment)\n",
    "\n",
    "**Also**: Make sure that the version of this notebook that you are working on is the same one that you just added to your repository! If you are working on a different copy of the noteobok, **none of your changes will be tracked**!\n",
    "\n",
    "If everything went as intended, the file should now show up on your GitHub account in the `cmse202-s23-turnin` repository inside the `hw-03` directory and `hw-03` branch that you just created.  Periodically, **you'll be asked to commit your changes and push them to the remote GitHub location**. Of course, you can always commit your changes more often than that, if you wish.  It will be good to develop a habit of committing your changes any time you make a significant modification, or when you stop working on the project for a bit.\n",
    "\n"
   ]
  },
  {
   "cell_type": "markdown",
   "metadata": {},
   "source": [
    "---\n",
    "\n",
    "# A natural selection model\n",
    "For this homework assignment, you will be building an Agent-Based Model (ABM) that simulates natural selection in action. You will build two classes for mice, which inhabit the world, and one class for a (predator) hawk. The mice have different fur color, which allows them to blend in better (or worse) with their environment. This model is (loosely) based on an actual case of natural selection involving the [Peppered Moth](https://en.wikipedia.org/wiki/Peppered_moth_evolution).\n",
    "\n",
    "For this assignment, you will be working with an environment class, which will allow you to actually run your simulation. We've also provided you with a generic `Animal_Agent`, which you will use to build your own classes for the natural selection model. You will need to download the generic `Animal_Agent` class and `Environment` class. You can find them here:\n",
    "\n",
    "- `https://raw.githubusercontent.com/msu-cmse-courses/cmse202-S23-data/main/HW/HW3/Animal_Agent_Class.py`\n",
    "- `https://raw.githubusercontent.com/msu-cmse-courses/cmse202-S23-data/main/HW/HW3/Environment.py`"
   ]
  },
  {
   "cell_type": "markdown",
   "metadata": {},
   "source": [
    "## 1. Building Up an Environment with Animal Agents\n",
    "\n",
    "\n",
    "\n",
    "### 1.1 (5 Points)\n",
    "\n",
    "Spend some time exploring the new classes a bit. **Write a few sentences giving a high-level description of how this model works. What are the different classes? What do they do? How can they be used to create an Agent-Based Model?**\n"
   ]
  },
  {
   "cell_type": "markdown",
   "metadata": {},
   "source": [
    "The environment class has built-in functionality to model the predator/prey relationship. The animal agent class models the characteristics of individual animals, such as age or color. As well as modeling procreation of the animal. This could be used to model an ecosystem."
   ]
  },
  {
   "cell_type": "markdown",
   "metadata": {},
   "source": [
    "### 1.2 (15 Points)\n",
    "\n",
    "Construct a new `Environment` object and a new `Animal_Agent` object. Specify that the `Animal_Agent` object is a female. Add the `Animal_Agent` object to the `Environment` object. Run the `simulation` method. You should see there's a bug in the code. **Fix the bug and explain what the cause was.**"
   ]
  },
  {
   "cell_type": "code",
   "execution_count": 1,
   "metadata": {},
   "outputs": [],
   "source": [
    "import random\n",
    "import numpy as np\n",
    "import math\n",
    "import matplotlib.pyplot as plt\n",
    "import time  \n",
    "from IPython.display import display, clear_output\n",
    "from matplotlib.offsetbox import OffsetImage, AnnotationBbox\n",
    "from matplotlib.cbook import get_sample_data"
   ]
  },
  {
   "cell_type": "code",
   "execution_count": 2,
   "metadata": {},
   "outputs": [],
   "source": [
    "class Environment():\n",
    "\n",
    "    '''\n",
    "    An Environment class. \n",
    "    '''\n",
    "    \n",
    "    def __init__(self, xsize=100, ysize=100):\n",
    "        self.xsize = xsize\n",
    "        self.ysize = ysize\n",
    "        self.environ = np.zeros((self.xsize,self.ysize,3))\n",
    "        self.environ[:,:,0] = 0.38\n",
    "        self.environ[:,:,1] = 0.19\n",
    "        self.environ[:,:,2] = 0.04\n",
    "        self.animal_agents = []\n",
    "\n",
    "    \n",
    "    def add_agent(self,agent):\n",
    "        self.animal_agents.append(agent)\n",
    "    \n",
    "    def simulate(self,tot_time):\n",
    "        for dt in range(tot_time):\n",
    "            clear_output(wait=True)\n",
    "            plt.figure(figsize=(6, 6))    \n",
    "            plt.imshow(self.environ) \n",
    "            ax = plt.gca()   \n",
    "            \n",
    "            # loop over each animal\n",
    "            temp_agents = []\n",
    "            temp_hunted_agents = []\n",
    "            for agent in self.animal_agents:\n",
    "                agent.roaming()\n",
    "                agent.draw(ax)\n",
    "                \n",
    "                if agent.ptype == \"Prey\":\n",
    "                    agent.aging()\n",
    "                    \n",
    "                    if agent.check_if_dead():\n",
    "                        del agent\n",
    "                    else:\n",
    "                        temp_agents.append(agent)\n",
    "                        temp_new_agents = agent.procreate(self.animal_agents, dt)\n",
    "                        if len(temp_new_agents) > 0:\n",
    "                            temp_agents.extend(temp_new_agents)\n",
    "                elif agent.ptype == \"Predator\":\n",
    "                    caught_prey = agent.hunt(self.animal_agents)\n",
    "                    if caught_prey:\n",
    "                        temp_hunted_agents.append(caught_prey)\n",
    "                    temp_agents.append(agent)\n",
    "            \n",
    "            for agent in temp_hunted_agents:\n",
    "                temp_agents.remove(agent)        \n",
    "            self.animal_agents.clear\n",
    "            self.animal_agents = temp_agents\n",
    "            plt.xlim(0,self.xsize)\n",
    "            plt.ylim(0,self.ysize)\n",
    "            plt.show()   \n",
    "            time.sleep(0.001)      \n",
    "\n",
    "    def simulate_plot_populations(self,tot_time):\n",
    "        self.light_brown_animals = []\n",
    "        self.dark_brown_animals = []\n",
    "        self.times = []\n",
    "        for dt in range(tot_time):\n",
    "            \n",
    "            # loop over each animal agent\n",
    "            temp_agents = []\n",
    "            temp_hunted_agents = []\n",
    "            for agent in self.animal_agents:\n",
    "                agent.roaming()\n",
    "                \n",
    "                if agent.ptype == \"Prey\":\n",
    "                    agent.aging()\n",
    "                    \n",
    "                    if agent.check_if_dead():\n",
    "                        del agent\n",
    "                    else:\n",
    "                        temp_agents.append(agent)\n",
    "                        temp_new_agents = agent.procreate(self.animal_agents, dt)\n",
    "                        if len(temp_new_agents) > 0:\n",
    "                            temp_agents.extend(temp_new_agents)\n",
    "                elif agent.ptype == \"Predator\":\n",
    "                    caught_prey = agent.hunt(self.animal_agents)\n",
    "                    if caught_prey:\n",
    "                        temp_hunted_agents.append(caught_prey)\n",
    "                    temp_agents.append(agent)\n",
    "            \n",
    "            for agent in temp_hunted_agents:\n",
    "                temp_agents.remove(agent)\n",
    "            self.animal_agents.clear\n",
    "            self.animal_agents = temp_agents\n",
    "\n",
    "            self.times.append(dt)\n",
    "            self.light_brown_animals.append(0)\n",
    "            self.dark_brown_animals.append(0)\n",
    "            for agent in self.animal_agents:\n",
    "                if agent.color == 'goldenrod':\n",
    "                    self.light_brown_animals[-1] += 1\n",
    "                elif agent.color == \"saddlebrown\":\n",
    "                    self.dark_brown_animals[-1] += 1\n",
    "\n",
    "        plt.plot(self.times,self.light_brown_animals,label=\"Light Brown\")   \n",
    "        plt.plot(self.times,self.dark_brown_animals,label=\"Dark Brown\")\n",
    "        plt.legend(loc=\"best\")\n",
    "        plt.show() "
   ]
  },
  {
   "cell_type": "code",
   "execution_count": 3,
   "metadata": {},
   "outputs": [],
   "source": [
    "class Animal_Agent():\n",
    "\n",
    "    '''\n",
    "    An Animal_Agent class. \n",
    "    '''\n",
    "    \n",
    "    def __init__(self,xmax=100,ymax=100,ptype=\"Prey\",sex=\"M\",age_limit=50,catch_radius=10,mate_range=5,gestation=8,shape=\"o\",color=\"saddlebrown\",saturation_pop=150):\n",
    "        '''\n",
    "        Initaliazes an animal agent object, an autonomous agent that can interact with other agents. Specifically, predators can hunt prey,\n",
    "        prey can procreate, and both predator and prey can move around and age. \n",
    "\n",
    "        xmax (int): The (x) size of the habitat\n",
    "        ymax (int): The (y) size of the habitat\n",
    "        pytpe (string): Sets whether this is a predator or prey type of animal\n",
    "        sex (string): Sets the sex of the animal\n",
    "        age_limit (int): Sets the age at which the animal dies of old age\n",
    "        catch_radius (int): Specifies how far away a predator can find/catch prey\n",
    "        mate_range (int): Specifies how far away a prey can find a mate\n",
    "        gestation (int): How long does an animal need to wait between mating cycles\n",
    "        shape (string): Specifies the marker to use when visualizing the animal\n",
    "        color (string): Specifies the color to use when visualizing the animal\n",
    "        saturation_pop (int): The saturation population, where the environment can no longer support the prey\n",
    "        is_caught (bool): Flag for determining whether prey has been caught by a predator\n",
    "        '''\n",
    "        self.x = random.randint(0, xmax)\n",
    "        self.y = random.randint(0, ymax)\n",
    "        self.age = 0 \n",
    "        self.ptype = ptype\n",
    "        self.age_limit = age_limit\n",
    "        self.catch_radius = catch_radius\n",
    "        self.xmax = xmax\n",
    "        self.ymax = ymax\n",
    "        self.sex = sex\n",
    "        self.gestation = gestation\n",
    "        self.last_litter_time = 1\n",
    "        self.mate_range = mate_range \n",
    "        self.color = color\n",
    "        self.shape = shape\n",
    "        self.saturation_pop = saturation_pop\n",
    "        self.is_caught = False\n",
    "        self.catch_probability = 0.5\n",
    "\n",
    "    def roaming(self,vx=7,vy=7): \n",
    "        '''\n",
    "        Method to proceed random walk. Checks to make sure that the position it is trying to move into is within the bounds of \n",
    "        the environment. \n",
    "        '''\n",
    "        dx = np.random.randint(-vx,vx)\n",
    "        dy = np.random.randint(-vy,vy)\n",
    "\n",
    "        if (self.x + dx > self.xmax) or (self.x + dx < 0):\n",
    "            self.x -= dx\n",
    "        else:\n",
    "            self.x += dx\n",
    "\n",
    "        if (self.y + dy > self.ymax) or (self.y + dy < 0):\n",
    "            self.y -= dy\n",
    "        else:\n",
    "            self.y += dy\n",
    "        # print(self.x,self.y)\n",
    "\n",
    "    def set_allele(self, alle_d, alle_m):\n",
    "        '''\n",
    "        Method to set the alleles of this mouse: alle_d and alle_m from dad and mom, respectively.\n",
    "        The values is either 0 or 1 for each allele. \n",
    "        0 and 1 are recessive and dominant gene expressions, respectively.\n",
    "        This setup will result in three types of fur_color expressions: \n",
    "        type0 ==> (0,0): 0 = 0 + 0; recessive, dark color\n",
    "        type1 ==> (0,1) or (1,0): 1 = 0 + 1 = 1 + 0; dominant, light color\n",
    "        type2 ==> (1,1): 2 = 1 + 1; dominant, light color\n",
    "        '''\n",
    "        \n",
    "        self.alle_d = alle_d\n",
    "        self.alle_m = alle_m\n",
    "        \n",
    "        # Here we set light animal color to be dominant.\n",
    "        if self.alle_d + self.alle_m >= 1:\n",
    "            self.color = 'goldenrod'\n",
    "            self.catch_probability = 0.95\n",
    "            \n",
    "        else:\n",
    "            self.color = \"saddlebrown\" \n",
    "\n",
    "\n",
    "    def draw(self,ax):\n",
    "        '''\n",
    "        Method to draw the animal agent using an axis object ax.\n",
    "        '''\n",
    "        ax.scatter(self.x, self.y, s=24.0, c=self.color, marker=self.shape)   \n",
    "    \n",
    "    def aging(self):\n",
    "        '''\n",
    "        Method to increase the age of the animal agent by one.\n",
    "        '''\n",
    "        self.age += 1\n",
    "\n",
    "    def check_if_dead(self):\n",
    "        '''\n",
    "        Method to check whether the animal agent has died of old age.\n",
    "        '''\n",
    "        if self.age > self.age_limit:\n",
    "            return True\n",
    "        else:\n",
    "            return False\n",
    "\n",
    "\n",
    "    def get_distance(self,agent):\n",
    "        '''\n",
    "        Get the distance between agents.\n",
    "\n",
    "        agent (Animal_Agent): An animal agent object that we're finding the distance to.\n",
    "        '''\n",
    "        return math.sqrt((self.x-agent.x)**2 + (self.y-agent.y)**2)\n",
    "    \n",
    "    def hunt(self,all_agents):\n",
    "        '''\n",
    "        Method for a predator to find prey. If the predator finds prey, the method sets the is_caught flag \n",
    "        and returns the prey object so it can be removed from the environment. \n",
    "\n",
    "\n",
    "        all_agents (list): A list of all of the animal agent objects \n",
    "        '''\n",
    "        for agent in all_agents:\n",
    "            if (agent.ptype == \"Prey\") and (agent.age < agent.age_limit) and not (agent.is_caught):\n",
    "                if self.get_distance(agent) < self.catch_radius:\n",
    "                    agent.is_caught = True\n",
    "                    return agent       \n",
    "        return False\n",
    "    \n",
    "    def procreate(self,all_agents,time):\n",
    "        '''\n",
    "        Method to create new agents (procreate). There are three barriers to procreation:\n",
    "        1. Has it been enough time between the last procreation? (I.e., more than the gestation time.)\n",
    "        2. Is there a (male) agent within range?\n",
    "        3. Is the population below the saturation point? This is modeled as a logistic function.\n",
    "        If all of these conditions are met, then a new litter is created. Every member of the new litter is \n",
    "        randomly assigned genes from their parents. The last litter time is set to the current time and the\n",
    "        list of children is returned. \n",
    "\n",
    "        all_agents (list): A list of all of the animal agent objects \n",
    "        time (int): The current time, used to determine if the Animal Agent has passed the gestation period.\n",
    "        '''\n",
    "        \n",
    "        child_list = []\n",
    "        val = random.random()\n",
    "        if (self.sex == 'F') and (np.mod(abs(time-self.last_litter_time),self.gestation) == 0):\n",
    "            for agent in all_agents:\n",
    "                if (agent.ptype==\"Prey\") and (agent.sex == \"M\") and (self.get_distance(agent) <= self.mate_range) and (val > (1.0/(1.0+np.exp(-len(all_agents)/self.saturation_pop)))):\n",
    "                    child_num = int(np.random.normal(7,1))\n",
    "                    for jj in range(child_num):\n",
    "                        mom_a = self.alle_d\n",
    "                        if np.random.randint(0,2) == 1:\n",
    "                            mom_a = self.alle_m\n",
    "                        dad_a = agent.alle_d\n",
    "                        if np.random.randint(0,2) == 1:\n",
    "                            dad_a = agent.alle_m               \n",
    "                            child = Animal_Agent(sex=\"F\")\n",
    "                        if np.random.randint(0,2) == 1:\n",
    "                            child = Animal_Agent(sex=\"M\")\n",
    "                        child.set_allele(dad_a,mom_a)\n",
    "                        child_list.append(child)\n",
    "                    self.last_litter_time = time\n",
    "                    break\n",
    "\n",
    "        return child_list"
   ]
  },
  {
   "cell_type": "code",
   "execution_count": 4,
   "metadata": {},
   "outputs": [
    {
     "data": {
      "image/png": "[encoded data removed]",
      "text/plain": [
       "<Figure size 432x432 with 1 Axes>"
      ]
     },
     "metadata": {
      "needs_background": "light"
     },
     "output_type": "display_data"
    }
   ],
   "source": [
    "deer = Animal_Agent(55,55,'Prey','F',30,50,45,1,'o','green',300)\n",
    "woods = Environment()\n",
    "\n",
    "woods.add_agent(deer)\n",
    "\n",
    "woods.simulate(100)"
   ]
  },
  {
   "cell_type": "markdown",
   "metadata": {},
   "source": [
    "Time  is a list, and subtraction between lists and integers is not possible."
   ]
  },
  {
   "cell_type": "markdown",
   "metadata": {},
   "source": [
    "### 1.3 (5 Points)\n",
    "\n",
    "**In the cell below, copy your `simulation` code from above and rerun it with the bug fixed to show how the animal runs around.** You should use the `set_allele()` method in the `Animal_Agent` class to randomly assign two alleles to your `Animal_Agent` object.\n"
   ]
  },
  {
   "cell_type": "code",
   "execution_count": 5,
   "metadata": {
    "scrolled": false
   },
   "outputs": [
    {
     "data": {
      "image/png": "[encoded data removed]",
      "text/plain": [
       "<Figure size 432x432 with 1 Axes>"
      ]
     },
     "metadata": {
      "needs_background": "light"
     },
     "output_type": "display_data"
    }
   ],
   "source": [
    "deer = Animal_Agent(100,100,'Prey','F',50,10,5,1,'o','b',300)\n",
    "deer.set_allele(np.random.randint(0,1), np.random.randint(0,1))\n",
    "\n",
    "woods = Environment()\n",
    "\n",
    "woods.add_agent(deer)\n",
    "\n",
    "woods.simulate(10)\n",
    "#moved classes here as the error would not fix when in its own python file."
   ]
  },
  {
   "cell_type": "markdown",
   "metadata": {},
   "source": [
    "### 1.4 (5 Points)\n",
    "\n",
    "**Now add in a predator and let it evolve. Do you see the predator hunting the prey object?** Make sure to set the `ptype` to predator, and the `shape` and `color` to be something different from the prey you defined above (E.g., a shape of \"P\" and a color of \"red\".)"
   ]
  },
  {
   "cell_type": "code",
   "execution_count": 6,
   "metadata": {},
   "outputs": [
    {
     "data": {
      "image/png": "[encoded data removed]",
      "text/plain": [
       "<Figure size 432x432 with 1 Axes>"
      ]
     },
     "metadata": {
      "needs_background": "light"
     },
     "output_type": "display_data"
    }
   ],
   "source": [
    "eagle = Animal_Agent(100,100,'Predator','F',50,20,5,2,'P','red',300)\n",
    "deer = Animal_Agent(100,100,'Prey','F',50,10,5,1,'o','b',300)\n",
    "\n",
    "woods.add_agent(deer)\n",
    "#woods.add_agent(eagle)\n",
    "\n",
    "\n",
    "\n",
    "woods.simulate(55)"
   ]
  },
  {
   "cell_type": "markdown",
   "metadata": {},
   "source": [
    "### 1.5 (15 Points)\n",
    "\n",
    "**Now add *multiple* predator and prey agents ($N > 1$ for both). Find a combination of $N_{\\mathrm{Prey}}$ and $N_{\\mathrm{Predator}}$ where the Prey can maintain a sustainable population (I.e., they aren't wiped out in the long run).**\n",
    "\n",
    "- **NOTE 1:** Make sure you add both male and female Prey, so they can `Procreate`. \n",
    "- **NOTE 2:** We recommend using the `simulate_plot_populations()` method, so you can monitor the growth/decline of populations."
   ]
  },
  {
   "cell_type": "code",
   "execution_count": 7,
   "metadata": {},
   "outputs": [
    {
     "data": {
      "image/png": "[encoded data removed]",
      "text/plain": [
       "<Figure size 432x288 with 1 Axes>"
      ]
     },
     "metadata": {
      "needs_background": "light"
     },
     "output_type": "display_data"
    }
   ],
   "source": [
    "deer1 = Animal_Agent(100,100,'Prey','M',50,10,5,1,'o','b',150)\n",
    "eagle = Animal_Agent(100,100,'Predator','F',50,20,5,2,'P','red',150)\n",
    "deer = Animal_Agent(100,100,'Prey','F',50,10,5,1,'o','b',150)\n",
    "deer1.set_allele(np.random.randint(0,1), np.random.randint(0,1))\n",
    "\n",
    "\n",
    "woods.add_agent(deer1)\n",
    "woods.add_agent(deer)\n",
    "\n",
    "\n",
    "woods.simulate_plot_populations(50)"
   ]
  },
  {
   "cell_type": "markdown",
   "metadata": {},
   "source": [
    "### 1.6 (5 Points)\n",
    "\n",
    "**How does the population evolve over time? (I.e., is it linear? Periodic? etc.) What causes this shape? How does the population of light brown and dark brown prey differ (if at all)?**"
   ]
  },
  {
   "cell_type": "markdown",
   "metadata": {},
   "source": [
    "The deer do not seem to be procreating, even though both a male and a female are present. Inital runs, before editing some numbers in the animals. Had the number of deer consistently around 400. With spikes and drops due to being hunted and mating cycles. After changing some values to default the populations appears to be stuck at 0-3. 'Light brown' was always stuck at 0."
   ]
  },
  {
   "cell_type": "markdown",
   "metadata": {},
   "source": [
    "## 2. Refining the Model\n",
    "\n",
    "For this part, we're going to use our generic `Animal_Agent`class to construct child classes that represent *specific* animal species for both our predator and prey animals. Specifically, we'll be making a `Mouse` child class for the prey and a `Hawk` child class for the predator. **We'll use these new child classes to run our natural selection model.**\n",
    "\n",
    "### 2.1 (15 Points)\n",
    "\n",
    "Create a new `Mouse` child class, using the `Animal_Agent` as the parent class. The `Mouse` class will largely be the same as the `Animal_Agent` class except for two details: \n",
    "\n",
    "1. **In the `set_allele` method, add a new class attribute called `catch_probability`. For the light-brown mice, set `catch_probability` to 0.95. For dark brown mice, set the `catch_probability` to 0.05.**\n",
    "2. **Change the `Procreate` method so that they create new `Mouse` animal objects.**\n",
    "\n"
   ]
  },
  {
   "cell_type": "code",
   "execution_count": 8,
   "metadata": {},
   "outputs": [],
   "source": [
    "class Mouse(Animal_Agent):\n",
    "    def set_allele(self, alle_d, alle_m):\n",
    "        self.set_allele(alle_d, alle_m)\n",
    "        if self.color == 'goldenrod':\n",
    "            self.catch_probability = 0.95\n",
    "        else:\n",
    "            self.catch_probability = 0.05\n",
    "    def procreate(self, all_agents, time):\n",
    "        child_list = []\n",
    "        val = random.random()\n",
    "        if (self.sex == 'F') and (np.mod(abs(time-self.last_litter_time),self.gestation) == 0):\n",
    "            for agent in all_agents:\n",
    "                if (agent.ptype==\"Prey\") and (agent.sex == \"M\") and (self.get_distance(agent) <= self.mate_range) and (val > (1.0/(1.0+np.exp(-len(all_agents)/self.saturation_pop)))):\n",
    "                    child_num = int(np.random.normal(7,1))\n",
    "                    for jj in range(child_num):\n",
    "                        mom_a = self.alle_d\n",
    "                        if np.random.randint(0,2) == 1:\n",
    "                            mom_a = self.alle_m\n",
    "                        dad_a = agent.alle_d\n",
    "                        if np.random.randint(0,2) == 1:\n",
    "                            dad_a = agent.alle_m               \n",
    "                        child = Animal_Agent(sex=\"F\")\n",
    "                        if np.random.randint(0,2) == 1:\n",
    "                            child = Mouse(sex=\"M\")\n",
    "                        child.set_allele(dad_a,mom_a)\n",
    "                        child_list.append(child)\n",
    "                    self.last_litter_time = time\n",
    "                    break\n",
    "\n",
    "        return child_list"
   ]
  },
  {
   "cell_type": "markdown",
   "metadata": {},
   "source": [
    "### 2.2 (10 Points)\n",
    "\n",
    "Create a new `Hawk` child class, using the `Animal_Agent` as the parent class. The `Hawk` class will largely be the same as the `Animal_Agent` class except for one detail: **In the `hunt` method, incorporate the `catch_probability` of the predator, such that it is harder for a `Hawk` to catch a `Mouse` with a lower `catch_probability`.**"
   ]
  },
  {
   "cell_type": "code",
   "execution_count": 9,
   "metadata": {},
   "outputs": [],
   "source": [
    "class Hawk(Animal_Agent):\n",
    "    def hunt(self, all_agents):\n",
    "        for agent in all_agents:\n",
    "            if (agent.ptype == \"Prey\") and (agent.age < agent.age_limit) and not (agent.is_caught):\n",
    "                if self.get_distance(agent) < self.catch_radius:\n",
    "                    if agent.catch_probability == 0.95:\n",
    "                        if random.random() <= 0.95:\n",
    "                            agent.is_caught = True\n",
    "                    else:\n",
    "                        if random.random <= 0.05:\n",
    "                            agent.is_caught = True\n",
    "                    return agent       \n",
    "        return False"
   ]
  },
  {
   "cell_type": "markdown",
   "metadata": {},
   "source": [
    "### 2.3 (5 Points)\n",
    "\n",
    "**Repeat problem 1.5, replacing the generic prey with the `Mice` animals, and the generic predators with the `Hawk` animals.**"
   ]
  },
  {
   "cell_type": "code",
   "execution_count": 10,
   "metadata": {},
   "outputs": [
    {
     "ename": "AttributeError",
     "evalue": "'Mouse' object has no attribute 'alle_d'",
     "output_type": "error",
     "traceback": [
      "\u001b[0;31m---------------------------------------------------------------------------\u001b[0m",
      "\u001b[0;31mAttributeError\u001b[0m                            Traceback (most recent call last)",
      "\u001b[0;32m<ipython-input-10-1dc79dd521c4>\u001b[0m in \u001b[0;36m<module>\u001b[0;34m\u001b[0m\n\u001b[1;32m      9\u001b[0m \u001b[0;34m\u001b[0m\u001b[0m\n\u001b[1;32m     10\u001b[0m \u001b[0;34m\u001b[0m\u001b[0m\n\u001b[0;32m---> 11\u001b[0;31m \u001b[0mwoods\u001b[0m\u001b[0;34m.\u001b[0m\u001b[0msimulate_plot_populations\u001b[0m\u001b[0;34m(\u001b[0m\u001b[0;36m50\u001b[0m\u001b[0;34m)\u001b[0m\u001b[0;34m\u001b[0m\u001b[0;34m\u001b[0m\u001b[0m\n\u001b[0m",
      "\u001b[0;32m<ipython-input-2-cadcce5d078b>\u001b[0m in \u001b[0;36msimulate_plot_populations\u001b[0;34m(self, tot_time)\u001b[0m\n\u001b[1;32m     76\u001b[0m                     \u001b[0;32melse\u001b[0m\u001b[0;34m:\u001b[0m\u001b[0;34m\u001b[0m\u001b[0;34m\u001b[0m\u001b[0m\n\u001b[1;32m     77\u001b[0m                         \u001b[0mtemp_agents\u001b[0m\u001b[0;34m.\u001b[0m\u001b[0mappend\u001b[0m\u001b[0;34m(\u001b[0m\u001b[0magent\u001b[0m\u001b[0;34m)\u001b[0m\u001b[0;34m\u001b[0m\u001b[0;34m\u001b[0m\u001b[0m\n\u001b[0;32m---> 78\u001b[0;31m                         \u001b[0mtemp_new_agents\u001b[0m \u001b[0;34m=\u001b[0m \u001b[0magent\u001b[0m\u001b[0;34m.\u001b[0m\u001b[0mprocreate\u001b[0m\u001b[0;34m(\u001b[0m\u001b[0mself\u001b[0m\u001b[0;34m.\u001b[0m\u001b[0manimal_agents\u001b[0m\u001b[0;34m,\u001b[0m \u001b[0mdt\u001b[0m\u001b[0;34m)\u001b[0m\u001b[0;34m\u001b[0m\u001b[0;34m\u001b[0m\u001b[0m\n\u001b[0m\u001b[1;32m     79\u001b[0m                         \u001b[0;32mif\u001b[0m \u001b[0mlen\u001b[0m\u001b[0;34m(\u001b[0m\u001b[0mtemp_new_agents\u001b[0m\u001b[0;34m)\u001b[0m \u001b[0;34m>\u001b[0m \u001b[0;36m0\u001b[0m\u001b[0;34m:\u001b[0m\u001b[0;34m\u001b[0m\u001b[0;34m\u001b[0m\u001b[0m\n\u001b[1;32m     80\u001b[0m                             \u001b[0mtemp_agents\u001b[0m\u001b[0;34m.\u001b[0m\u001b[0mextend\u001b[0m\u001b[0;34m(\u001b[0m\u001b[0mtemp_new_agents\u001b[0m\u001b[0;34m)\u001b[0m\u001b[0;34m\u001b[0m\u001b[0;34m\u001b[0m\u001b[0m\n",
      "\u001b[0;32m<ipython-input-8-8279e328c167>\u001b[0m in \u001b[0;36mprocreate\u001b[0;34m(self, all_agents, time)\u001b[0m\n\u001b[1;32m     14\u001b[0m                     \u001b[0mchild_num\u001b[0m \u001b[0;34m=\u001b[0m \u001b[0mint\u001b[0m\u001b[0;34m(\u001b[0m\u001b[0mnp\u001b[0m\u001b[0;34m.\u001b[0m\u001b[0mrandom\u001b[0m\u001b[0;34m.\u001b[0m\u001b[0mnormal\u001b[0m\u001b[0;34m(\u001b[0m\u001b[0;36m7\u001b[0m\u001b[0;34m,\u001b[0m\u001b[0;36m1\u001b[0m\u001b[0;34m)\u001b[0m\u001b[0;34m)\u001b[0m\u001b[0;34m\u001b[0m\u001b[0;34m\u001b[0m\u001b[0m\n\u001b[1;32m     15\u001b[0m                     \u001b[0;32mfor\u001b[0m \u001b[0mjj\u001b[0m \u001b[0;32min\u001b[0m \u001b[0mrange\u001b[0m\u001b[0;34m(\u001b[0m\u001b[0mchild_num\u001b[0m\u001b[0;34m)\u001b[0m\u001b[0;34m:\u001b[0m\u001b[0;34m\u001b[0m\u001b[0;34m\u001b[0m\u001b[0m\n\u001b[0;32m---> 16\u001b[0;31m                         \u001b[0mmom_a\u001b[0m \u001b[0;34m=\u001b[0m \u001b[0mself\u001b[0m\u001b[0;34m.\u001b[0m\u001b[0malle_d\u001b[0m\u001b[0;34m\u001b[0m\u001b[0;34m\u001b[0m\u001b[0m\n\u001b[0m\u001b[1;32m     17\u001b[0m                         \u001b[0;32mif\u001b[0m \u001b[0mnp\u001b[0m\u001b[0;34m.\u001b[0m\u001b[0mrandom\u001b[0m\u001b[0;34m.\u001b[0m\u001b[0mrandint\u001b[0m\u001b[0;34m(\u001b[0m\u001b[0;36m0\u001b[0m\u001b[0;34m,\u001b[0m\u001b[0;36m2\u001b[0m\u001b[0;34m)\u001b[0m \u001b[0;34m==\u001b[0m \u001b[0;36m1\u001b[0m\u001b[0;34m:\u001b[0m\u001b[0;34m\u001b[0m\u001b[0;34m\u001b[0m\u001b[0m\n\u001b[1;32m     18\u001b[0m                             \u001b[0mmom_a\u001b[0m \u001b[0;34m=\u001b[0m \u001b[0mself\u001b[0m\u001b[0;34m.\u001b[0m\u001b[0malle_m\u001b[0m\u001b[0;34m\u001b[0m\u001b[0;34m\u001b[0m\u001b[0m\n",
      "\u001b[0;31mAttributeError\u001b[0m: 'Mouse' object has no attribute 'alle_d'"
     ]
    }
   ],
   "source": [
    "mouse1 = Mouse(100,100,'Prey','M',50,10,5,1,'o','b',300)\n",
    "hawk = Hawk(100,100,'Predator','F',50,20,5,2,'P','red',300)\n",
    "mouse = Mouse(100,100,'Prey','F',50,10,5,1,'o','b',300)\n",
    "deer1.set_allele(np.random.randint(0,1), np.random.randint(0,1))\n",
    "\n",
    "woods.add_agent(hawk)\n",
    "woods.add_agent(mouse1)\n",
    "woods.add_agent(mouse)\n",
    "\n",
    "\n",
    "woods.simulate_plot_populations(50)"
   ]
  },
  {
   "cell_type": "markdown",
   "metadata": {},
   "source": [
    "### 2.4 (5 Points)\n",
    "\n",
    "**Describe the differences between your results using the `Hawk` and `Mouse` class and the results from part 1.5. If and how does this model capture the effects of natural selection?**"
   ]
  },
  {
   "cell_type": "markdown",
   "metadata": {},
   "source": [
    "I have no clue, I continue to get errors like the one above. The attribute exists and should be inherited but supposedly doesn't exist. I initially thought the classes being outside of the notebook was the cause; however, after adding the classes to the notebook these errors perist, seeminglt at random."
   ]
  },
  {
   "cell_type": "markdown",
   "metadata": {},
   "source": [
    "---\n",
    "### &#128721; STOP\n",
    "**Pause to commit your changes and push to your Git repository!**\n",
    "\n",
    "## Git push, and then merge your `hw03_branch` into your `main` branch."
   ]
  },
  {
   "cell_type": "markdown",
   "metadata": {},
   "source": []
  }
 ],
 "metadata": {
  "kernelspec": {
   "display_name": "Python 3",
   "language": "python",
   "name": "python3"
  },
  "language_info": {
   "codemirror_mode": {
    "name": "ipython",
    "version": 3
   },
   "file_extension": ".py",
   "mimetype": "text/x-python",
   "name": "python",
   "nbconvert_exporter": "python",
   "pygments_lexer": "ipython3",
   "version": "3.8.8"
  }
 },
 "nbformat": 4,
 "nbformat_minor": 2
}
